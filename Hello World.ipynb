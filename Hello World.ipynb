{
 "cells": [
  {
   "cell_type": "code",
   "execution_count": 1,
   "id": "49252326-3b66-461f-ab90-c3ccbdebc2ef",
   "metadata": {},
   "outputs": [
    {
     "name": "stdout",
     "output_type": "stream",
     "text": [
      "Hello world\n"
     ]
    }
   ],
   "source": [
    "print(\"Hello world\")"
   ]
  },
  {
   "cell_type": "code",
   "execution_count": 5,
   "id": "aa21e751-0bf3-4ca6-8419-39a5810c8691",
   "metadata": {},
   "outputs": [
    {
     "data": {
      "text/plain": [
       "'My name is Owen'"
      ]
     },
     "execution_count": 5,
     "metadata": {},
     "output_type": "execute_result"
    }
   ],
   "source": [
    "name = \"Owen\"\n",
    "\"My name is {}\".format(name)"
   ]
  },
  {
   "cell_type": "markdown",
   "id": "1429e2a9-fe91-4918-8910-2300b22c9364",
   "metadata": {},
   "source": [
    "There is some additional markdown added and to be pushed to origin"
   ]
  }
 ],
 "metadata": {
  "kernelspec": {
   "display_name": "Python [conda env:base] *",
   "language": "python",
   "name": "conda-base-py"
  },
  "language_info": {
   "codemirror_mode": {
    "name": "ipython",
    "version": 3
   },
   "file_extension": ".py",
   "mimetype": "text/x-python",
   "name": "python",
   "nbconvert_exporter": "python",
   "pygments_lexer": "ipython3",
   "version": "3.12.7"
  }
 },
 "nbformat": 4,
 "nbformat_minor": 5
}
