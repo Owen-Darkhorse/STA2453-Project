{
 "cells": [
  {
   "cell_type": "code",
   "execution_count": 1,
   "id": "49252326-3b66-461f-ab90-c3ccbdebc2ef",
   "metadata": {},
   "outputs": [
    {
     "name": "stdout",
     "output_type": "stream",
     "text": [
      "Hello world\n"
     ]
    }
   ],
   "source": [
    "print(\"Hello world\")"
   ]
  },
  {
   "cell_type": "code",
   "execution_count": 5,
   "id": "aa21e751-0bf3-4ca6-8419-39a5810c8691",
   "metadata": {},
   "outputs": [
    {
     "data": {
      "text/plain": [
       "'My name is Owen'"
      ]
     },
     "execution_count": 5,
     "metadata": {},
     "output_type": "execute_result"
    }
   ],
   "source": [
    "name = \"Owen\"\n",
    "\"My name is {}\".format(name)"
   ]
  },
  {
   "cell_type": "markdown",
   "id": "1429e2a9-fe91-4918-8910-2300b22c9364",
   "metadata": {},
   "source": [
    "There is some additional markdown added and to be pushed to origin"
   ]
  },
  {
   "cell_type": "code",
   "execution_count": 3,
   "id": "1125bbf8-6051-4649-96ba-fac1339e45db",
   "metadata": {},
   "outputs": [],
   "source": [
    "import pandas as pd\n",
    "import numpy as np"
   ]
  },
  {
   "cell_type": "code",
   "execution_count": 5,
   "id": "a68e6f0a-6733-4dfe-a6f0-4703757466c7",
   "metadata": {},
   "outputs": [
    {
     "data": {
      "text/html": [
       "<div>\n",
       "<style scoped>\n",
       "    .dataframe tbody tr th:only-of-type {\n",
       "        vertical-align: middle;\n",
       "    }\n",
       "\n",
       "    .dataframe tbody tr th {\n",
       "        vertical-align: top;\n",
       "    }\n",
       "\n",
       "    .dataframe thead th {\n",
       "        text-align: right;\n",
       "    }\n",
       "</style>\n",
       "<table border=\"1\" class=\"dataframe\">\n",
       "  <thead>\n",
       "    <tr style=\"text-align: right;\">\n",
       "      <th></th>\n",
       "      <th>Names</th>\n",
       "      <th>Grades</th>\n",
       "    </tr>\n",
       "  </thead>\n",
       "  <tbody>\n",
       "    <tr>\n",
       "      <th>0</th>\n",
       "      <td>Owen</td>\n",
       "      <td>61</td>\n",
       "    </tr>\n",
       "    <tr>\n",
       "      <th>1</th>\n",
       "      <td>Alan</td>\n",
       "      <td>68</td>\n",
       "    </tr>\n",
       "    <tr>\n",
       "      <th>2</th>\n",
       "      <td>Sam</td>\n",
       "      <td>78</td>\n",
       "    </tr>\n",
       "    <tr>\n",
       "      <th>3</th>\n",
       "      <td>Jerry</td>\n",
       "      <td>87</td>\n",
       "    </tr>\n",
       "  </tbody>\n",
       "</table>\n",
       "</div>"
      ],
      "text/plain": [
       "   Names  Grades\n",
       "0   Owen      61\n",
       "1   Alan      68\n",
       "2    Sam      78\n",
       "3  Jerry      87"
      ]
     },
     "execution_count": 5,
     "metadata": {},
     "output_type": "execute_result"
    }
   ],
   "source": [
    "pd.DataFrame({\"Names\":['Owen', 'Alan', 'Sam', 'Jerry'], \"Grades\":[61, 68, 78, 87]})"
   ]
  },
  {
   "cell_type": "code",
   "execution_count": 11,
   "id": "b872d89d-1079-45fe-8e16-ac9e6d41bcea",
   "metadata": {},
   "outputs": [
    {
     "data": {
      "text/plain": [
       "0    0.684132\n",
       "1    0.192225\n",
       "2    0.371770\n",
       "3    0.752769\n",
       "4    0.065675\n",
       "5    0.836398\n",
       "6    0.240886\n",
       "7    0.154550\n",
       "8    0.343280\n",
       "9    0.535238\n",
       "dtype: float64"
      ]
     },
     "execution_count": 11,
     "metadata": {},
     "output_type": "execute_result"
    }
   ],
   "source": [
    "rng = np.random.default_rng()\n",
    "pd.Series(rng.random(10))"
   ]
  },
  {
   "cell_type": "code",
   "execution_count": null,
   "id": "f49ad6f6-7f34-4b74-aeac-7909ac8179fc",
   "metadata": {},
   "outputs": [],
   "source": []
  }
 ],
 "metadata": {
  "kernelspec": {
   "display_name": "Python [conda env:base] *",
   "language": "python",
   "name": "conda-base-py"
  },
  "language_info": {
   "codemirror_mode": {
    "name": "ipython",
    "version": 3
   },
   "file_extension": ".py",
   "mimetype": "text/x-python",
   "name": "python",
   "nbconvert_exporter": "python",
   "pygments_lexer": "ipython3",
   "version": "3.12.7"
  }
 },
 "nbformat": 4,
 "nbformat_minor": 5
}
